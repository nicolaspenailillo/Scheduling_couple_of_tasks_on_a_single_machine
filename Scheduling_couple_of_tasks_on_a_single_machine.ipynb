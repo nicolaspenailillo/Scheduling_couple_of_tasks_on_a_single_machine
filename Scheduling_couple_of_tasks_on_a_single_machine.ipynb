{
 "cells": [
  {
   "cell_type": "code",
   "execution_count": 15,
   "metadata": {},
   "outputs": [],
   "source": [
    "import random\n",
    "import itertools as it\n",
    "#Initialization Table\n",
    "table = [\n",
    "    [1,2,3,4,3,2,1,5,3,1,2,3],\n",
    "    [2,1,8,5,3,1,1,2,3,5,2,5],\n",
    "    [5,4,2,1,3,3,4,1,1,8,2,8],\n",
    "    ]\n",
    "\n",
    "#transpose matrix and get Jobs ji [Ai,Li,Bi]\n",
    "Jobs = list(zip(*table))"
   ]
  },
  {
   "cell_type": "code",
   "execution_count": 16,
   "metadata": {},
   "outputs": [],
   "source": [
    "#check if the pair is nested and return P1\n",
    "def check_nesting(j_1,j_2):\n",
    "    if sum(j_2) <= j_1[1]: # L_j1 > a_j1 + L_j1 + b_j1\n",
    "        return sum(j_1)\n",
    "    return 0\n",
    "\n",
    "#check if the pair is interleaved and return the sum a1 + P2\n",
    "def check_interleaving(j_1,j_2):\n",
    "    if j_2[0] <= j_1[1] and j_1[2] <= j_2[1]: # a_j2 <= L_j1 and b_j1 <= L_j2\n",
    "        return j_1[0] + sum(j_2)\n",
    "    return 0\n",
    "         "
   ]
  },
  {
   "cell_type": "code",
   "execution_count": 17,
   "metadata": {},
   "outputs": [],
   "source": [
    "#return the makespan of the sequence, check every pair if is nested or interleaved and get its sum\n",
    "#if the pair is not nested or interleaved just return the sum of every job P1 and P2\n",
    "\n",
    "def makespan(S):\n",
    "    makespan = 0\n",
    "    for i in range(int(len(S)/2)):\n",
    "        if len(S)%2!=0 and i==int(len(S)/2): #if odd and the last job just return True\n",
    "            makespan += sum(S[i])\n",
    "        else:\n",
    "            s1 = S[2*i]\n",
    "            s2 = S[2*i+1]\n",
    "            if check_nesting(s1,s2) != 0 or check_interleaving(s1,s2):\n",
    "                makespan += check_nesting(s1,s2) + check_interleaving(s1,s2)\n",
    "            else:\n",
    "                makespan += sum(s1)+sum(s2)\n",
    "\n",
    "    return makespan"
   ]
  },
  {
   "cell_type": "code",
   "execution_count": 18,
   "metadata": {},
   "outputs": [],
   "source": [
    "#just a function to create a random sequence from a table\n",
    "   \n",
    "def generate_random_sequence(Jobs):\n",
    "    job_rand = Jobs.copy()\n",
    "    random.shuffle(job_rand)\n",
    "    return job_rand"
   ]
  },
  {
   "cell_type": "code",
   "execution_count": 19,
   "metadata": {},
   "outputs": [],
   "source": [
    "\n",
    "# Implementation of the paper \n",
    "# Li, H. and Zhao, H. (2007). “Scheduling Coupled-Tasks on a Single Machine”. IEEE Symposium on Computational\n",
    "# Intelligence in Scheduling, 137-142.\n",
    "# Author: Penailillo Nicolas\n",
    "\n",
    "# CSFS(S). Let S be the sequence\n",
    "# <(j1,j2, ..,jn)> . Start job j1 at time 0. For each index\n",
    "# i= 2,3,...,n, scheldule job ji at the ealiest possible time in\n",
    "# the partial schedule. Return the makespan of the constructed\n",
    "# schedule \n",
    "\n",
    "\n",
    "def CSFS(S, return_S = False):\n",
    "    partial_schedule = []\n",
    "    partial_schedule.append(S[0])\n",
    "    for i in range(1,len(S)):\n",
    "        found_best_position = False\n",
    "        for j in range(len(partial_schedule)):\n",
    "            lowest = 100000\n",
    "            if check_nesting(partial_schedule[j], S[i]) or check_interleaving(partial_schedule[j], S[i]):\n",
    "                partial_schedule.insert(j+1, S[i])\n",
    "                found_best_position = True\n",
    "                break\n",
    "        if not found_best_position:\n",
    "            partial_schedule.append(S[i])\n",
    "    \n",
    "    \n",
    "    if not return_S:\n",
    "        return makespan(partial_schedule)\n",
    "    else:\n",
    "        return [S,makespan(partial_schedule)]\n",
    "\n",
    "#This funtion returns M(S) =(j_1,j_[n/3],j_[2n/3],j_n,CSFS(S)).\n",
    "def M(S,CSFS_value):\n",
    "    return [S[0], S[int(len(S)/3)],S[int(2*len(S)/3)],S[len(S)-1],CSFS_value]\n",
    "\n",
    "#This function return the neighborhood for the tabu search, see the paper details\n",
    "def neighborhood(S,K):\n",
    "    N=[]\n",
    "    for i in range(len(S)):\n",
    "        for k in range(K):\n",
    "            s_copy = S.copy()\n",
    "            subseq= S[i:i+k+1]\n",
    "\n",
    "            s_copy[i:i+k+1]= []\n",
    "            for m in range(len(s_copy)+1):\n",
    "                s_copy_2 = s_copy.copy()\n",
    "                s_copy_2[m:m]=subseq\n",
    "                N.append(s_copy_2)\n",
    "\n",
    "    return N\n",
    "\n",
    "#this function iterate a list and search the minimal CSFS() of the element in the list\n",
    "def best_neighbor_func(neighbors):\n",
    "    best = []\n",
    "    min = 100000000\n",
    "    for neighbor in neighbors:\n",
    "        if CSFS(neighbor) < min:\n",
    "            best = neighbor\n",
    "            min = CSFS(neighbor)\n",
    "    return best\n",
    "\n",
    "#tabu search, it iterates untill completes max_iterations without changes in S\n",
    "def tabu(S,K,max_iterations):\n",
    "    L=[]\n",
    "    S_b = S\n",
    "    C_b = CSFS(S)\n",
    "    s__not_updated = 0\n",
    "    iterations = 0\n",
    "    while s__not_updated < max_iterations:\n",
    "        iterations+=1\n",
    "        neighbors = neighborhood(S,K)\n",
    "        s__not_updated = 1000\n",
    "        best_neighbor = best_neighbor_func(neighbors)\n",
    "        new_csfs =CSFS(best_neighbor)\n",
    "        Snew = []\n",
    "        if M(best_neighbor,new_csfs) in L:\n",
    "            Snew = generate_random_sequence(Jobs)\n",
    "        else:\n",
    "            Snew = best_neighbor\n",
    "        \n",
    "        if CSFS(Snew) < C_b:\n",
    "            S_b = Snew\n",
    "            C_b = CSFS(Snew)\n",
    "            L.append(M(S,C_b))\n",
    "            S=Snew\n",
    "        else:\n",
    "            s__not_updated+=1\n",
    "    \n",
    "    return(S_b)\n",
    "        \n",
    "    \n",
    "\n"
   ]
  },
  {
   "cell_type": "code",
   "execution_count": 64,
   "metadata": {},
   "outputs": [
    {
     "name": "stdout",
     "output_type": "stream",
     "text": [
      "Optimal makespan 77\n",
      "Optimal sequence [(1, 5, 8), (2, 2, 2), (3, 3, 3), (1, 2, 5), (3, 3, 1), (1, 1, 4), (2, 1, 4), (5, 2, 1), (3, 5, 8), (3, 8, 2), (2, 1, 3), (4, 5, 1)]\n"
     ]
    }
   ],
   "source": [
    "S_optimal = tabu(generate_random_sequence(Jobs),3,1000)\n",
    "print(\"Optimal makespan\", CSFS(S_optimal))\n",
    "print(\"Optimal sequence\", CSFS(S_optimal,True)[0])"
   ]
  }
 ],
 "metadata": {
  "interpreter": {
   "hash": "8e284ee3255a07ad8bf76694974743c4c81cb57e7c969474d752d949b11d721e"
  },
  "kernelspec": {
   "display_name": "Python 3.9.13 64-bit",
   "language": "python",
   "name": "python3"
  },
  "language_info": {
   "codemirror_mode": {
    "name": "ipython",
    "version": 3
   },
   "file_extension": ".py",
   "mimetype": "text/x-python",
   "name": "python",
   "nbconvert_exporter": "python",
   "pygments_lexer": "ipython3",
   "version": "3.9.13"
  },
  "orig_nbformat": 4
 },
 "nbformat": 4,
 "nbformat_minor": 2
}
